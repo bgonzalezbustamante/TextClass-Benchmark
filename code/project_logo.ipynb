{
 "cells": [
  {
   "cell_type": "markdown",
   "id": "73b2a13e-ec00-4db9-8c77-7e993ad8b35e",
   "metadata": {},
   "source": [
    "# TextClass-Benchmark\n",
    "## Logo Creation\n",
    "**Bastián González-Bustamante** \\\n",
    "https://textclass-benchmark.com"
   ]
  },
  {
   "cell_type": "code",
   "execution_count": 36,
   "id": "e431c67b-6369-4cdf-ba51-36bec31a379f",
   "metadata": {},
   "outputs": [],
   "source": [
    "## Dependencies\n",
    "from PIL import Image, ImageDraw\n",
    "from math import cos, sin, pi  # Import trigonometric functions and pi\n",
    "\n",
    "## Hexagon function\n",
    "def draw_hexagon_border(image_path, output_path, border_size=100, border_color=\"blue\"):\n",
    "    # Load the PNG image\n",
    "    image = Image.open(image_path).convert(\"RGBA\")  # Ensure transparency is handled\n",
    "\n",
    "    ## Image dimensions\n",
    "    width, height = image.size\n",
    "    new_width = width + 2 * border_size\n",
    "    new_height = height + 2 * border_size\n",
    "\n",
    "    ## New image with space for the border\n",
    "    bordered_image = Image.new(\"RGBA\", (new_width, new_height), (255, 255, 255, 255))  # White background\n",
    "\n",
    "    ## Hexagon coordinates\n",
    "    center_x, center_y = new_width // 2, new_height // 2\n",
    "    hexagon_radius = max(width, height) // 2 + border_size\n",
    "\n",
    "    ## Function to compute hexagon points\n",
    "    def hexagon_points(cx, cy, radius):\n",
    "        points = []\n",
    "        for i in range(6):  ## 6 points for the hexagon\n",
    "            angle = (i * 60) * pi / 180  ## Convert degrees to radians\n",
    "            x = cx + radius * cos(angle)\n",
    "            y = cy + radius * sin(angle)\n",
    "            points.append((x, y))\n",
    "        return points\n",
    "\n",
    "    ## Draw the hexagon border\n",
    "    draw = ImageDraw.Draw(bordered_image)\n",
    "    hexagon = hexagon_points(center_x, center_y, hexagon_radius)\n",
    "    draw.polygon(hexagon, outline=border_color, width=border_size)\n",
    "\n",
    "    ## Paste the original image into the center\n",
    "    bordered_image.paste(image, (border_size, border_size), mask=image)  # Use alpha mask\n",
    "\n",
    "    ## Save the result\n",
    "    bordered_image.save(output_path)\n",
    "\n",
    "## Usage\n",
    "draw_hexagon_border(\"../docs/logo/sources/textclass_logo_transparent.png\", \"../docs/logo/textclass_logo_dark.png\", border_size=50, border_color=\"#002b36\")\n",
    "draw_hexagon_border(\"../docs/logo/sources/textclass_logo_transparent.png\", \"../docs/logo/textclass_logo_light.png\", border_size=50, border_color=\"#b58900\")"
   ]
  },
  {
   "cell_type": "markdown",
   "id": "c7113293-8804-4bea-97e4-a067c1edc18f",
   "metadata": {},
   "source": [
    "## Christmas hat"
   ]
  },
  {
   "cell_type": "code",
   "execution_count": 2,
   "id": "e14786be-e8a6-4b70-aac9-3570a56e70f2",
   "metadata": {},
   "outputs": [],
   "source": [
    "## Dependencies\n",
    "from PIL import Image, ImageDraw\n",
    "from math import cos, sin, pi  # Import trigonometric functions and pi\n",
    "\n",
    "## Hexagon function\n",
    "def draw_hexagon_border(image_path, output_path, border_size=100, border_color=\"blue\"):\n",
    "    # Load the PNG image\n",
    "    image = Image.open(image_path).convert(\"RGBA\")  # Ensure transparency is handled\n",
    "\n",
    "    ## Image dimensions\n",
    "    width, height = image.size\n",
    "    new_width = width + 2 * border_size\n",
    "    new_height = height + 2 * border_size\n",
    "\n",
    "    ## New image with space for the border\n",
    "    bordered_image = Image.new(\"RGBA\", (new_width, new_height), (255, 255, 255, 255))  # White background\n",
    "\n",
    "    ## Hexagon coordinates\n",
    "    center_x, center_y = new_width // 2, new_height // 2\n",
    "    hexagon_radius = max(width, height) // 2 + border_size\n",
    "\n",
    "    ## Function to compute hexagon points\n",
    "    def hexagon_points(cx, cy, radius):\n",
    "        points = []\n",
    "        for i in range(6):  ## 6 points for the hexagon\n",
    "            angle = (i * 60) * pi / 180  ## Convert degrees to radians\n",
    "            x = cx + radius * cos(angle)\n",
    "            y = cy + radius * sin(angle)\n",
    "            points.append((x, y))\n",
    "        return points\n",
    "\n",
    "    ## Draw the hexagon border\n",
    "    draw = ImageDraw.Draw(bordered_image)\n",
    "    hexagon = hexagon_points(center_x, center_y, hexagon_radius)\n",
    "    draw.polygon(hexagon, outline=border_color, width=border_size)\n",
    "\n",
    "    ## Paste the original image into the center\n",
    "    bordered_image.paste(image, (border_size, border_size), mask=image)  # Use alpha mask\n",
    "\n",
    "    ## Save the result\n",
    "    bordered_image.save(output_path)\n",
    "\n",
    "## Usage\n",
    "draw_hexagon_border(\"../docs/logo/sources/textclass_hat_transparent.png\", \"../docs/logo/textclass_logo_hat.png\", border_size=50, border_color=\"#b58900\")"
   ]
  },
  {
   "cell_type": "code",
   "execution_count": null,
   "id": "65291d9d-4eef-47e1-ba9c-91984d4f44d5",
   "metadata": {},
   "outputs": [],
   "source": []
  }
 ],
 "metadata": {
  "kernelspec": {
   "display_name": "Python 3 (ipykernel)",
   "language": "python",
   "name": "python3"
  },
  "language_info": {
   "codemirror_mode": {
    "name": "ipython",
    "version": 3
   },
   "file_extension": ".py",
   "mimetype": "text/x-python",
   "name": "python",
   "nbconvert_exporter": "python",
   "pygments_lexer": "ipython3",
   "version": "3.11.5"
  }
 },
 "nbformat": 4,
 "nbformat_minor": 5
}
